{
  "cells": [
    {
      "cell_type": "markdown",
      "metadata": {},
      "source": [
        "# Graphiti (Zep) Temporal Knowledge Graph — Hands-on Notebook\n",
        "\n",
        "Companion to `GRAPHITI_ZEP_TUTORIAL.md`. This notebook walks through install, setup, ingestion, and querying using Graphiti — the open-source engine behind Zep."
      ]
    },
    {
      "cell_type": "markdown",
      "metadata": {},
      "source": [
        "## Objectives\n",
        "- Build a temporally-aware knowledge graph from episodes (text, message, JSON).\n",
        "- Run hybrid searches over entities and relationships.\n",
        "- Explore options for alternative LLMs/embedders."
      ]
    },
    {
      "cell_type": "markdown",
      "metadata": {},
      "source": [
        "## Prerequisites\n",
        "- Python 3.10+\n",
        "- One backend running locally (Neo4j or FalkorDB)\n",
        "- One LLM provider API key (e.g., OpenAI)"
      ]
    },
    {
      "cell_type": "code",
      "execution_count": null,
      "metadata": {
        "collapsed": false
      },
      "outputs": [],
      "source": [
        "# Install Graphiti and optional helpers\n",
        "# If running in a managed environment, uncomment the next lines.\n",
        "# %pip install -q graphiti-core python-dotenv\n",
        "# %pip install -q \"graphiti-core[falkordb]\"\n",
        "\n",
        "import os, sys, json, asyncio, logging\n",
        "from datetime import datetime, timezone\n",
        "from pathlib import Path\n",
        "\n",
        "logging.basicConfig(level=logging.INFO)\n",
        "logger = logging.getLogger('graphiti_notebook')\n",
        "logger.info('Environment ready')"
      ]
    },
    {
      "cell_type": "markdown",
      "metadata": {},
      "source": [
        "## Configure Environment\n",
        "Provide your credentials via environment variables or a `.env` file."
      ]
    },
    {
      "cell_type": "code",
      "execution_count": null,
      "metadata": {},
      "outputs": [],
      "source": [
        "# Load .env if present\n",
        "try:\n",
        "    from dotenv import load_dotenv\n",
        "    load_dotenv()\n",
        "    logger.info('Loaded .env')\n",
        "except Exception as e:\n",
        "    logger.warning(f'dotenv not available or failed: {e}')\n",
        "\n",
        "NEO4J_URI = os.getenv('NEO4J_URI', 'bolt://localhost:7687')\n",
        "NEO4J_USER = os.getenv('NEO4J_USER', 'neo4j')\n",
        "NEO4J_PASSWORD = os.getenv('NEO4J_PASSWORD', '')\n",
        "OPENAI_API_KEY = os.getenv('OPENAI_API_KEY', '')\n",
        "\n",
        "assert NEO4J_URI and NEO4J_USER, 'Missing NEO4J credentials'\n",
        "logger.info(f'NEO4J_URI: {NEO4J_URI}')"
      ]
    },
    {
      "cell_type": "markdown",
      "metadata": {},
      "source": [
        "## Initialize Graphiti\n",
        "This constructs the client and sets up indices/constraints on first run."
      ]
    },
    {
      "cell_type": "code",
      "execution_count": null,
      "metadata": {},
      "outputs": [],
      "source": [
        "from graphiti_core import Graphiti\n",
        "\n",
        "async def init_graph():\n",
        "    graph = await Graphiti.build(NEO4J_URI, NEO4J_USER, NEO4J_PASSWORD)\n",
        "    return graph\n",
        "\n",
        "graph = asyncio.run(init_graph())\n",
        "logger.info('Graphiti initialized')"
      ]
    },
    {
      "cell_type": "markdown",
      "metadata": {},
      "source": [
        "## Add Episodes (Text, Message, JSON)\n",
        "Episodes are the raw inputs. Graphiti extracts entities/relations and tracks temporal validity."
      ]
    },
    {
      "cell_type": "code",
      "execution_count": null,
      "metadata": {},
      "outputs": [],
      "source": [
        "from graphiti_core.nodes import EpisodeType\n",
        "\n",
        "async def add_text_episode(graph):\n",
        "    await graph.add_episode(\n",
        "        name='User_Feedback_1',\n",
        "        episode_body=(\n",
        "            'Alice bought Allbirds Wool Runners. She loves the comfort but '\n",
        "            'complains about durability after 3 months.'\n",
        "        ),\n",
        "        source=EpisodeType.text,\n",
        "        source_description='User review from forum',\n",
        "        reference_time=datetime(2025, 1, 15, 10, 0, tzinfo=timezone.utc),\n",
        "    )\n",
        "\n",
        "async def add_message_episode(graph):\n",
        "    await graph.add_episode(\n",
        "        name='Support_Chat_1',\n",
        "        episode_body=(\n",
        "            'Alice: My Allbirds shoes are falling apart.\\n'\n",
        "            'Support: Sorry, Alice. We'll send a replacement.'\n",
        "        ),\n",
        "        source=EpisodeType.message,\n",
        "        source_description='Customer support transcript',\n",
        "        reference_time=datetime(2025, 2, 20, 14, 30, tzinfo=timezone.utc),\n",
        "    )\n",
        "\n",
        "async def add_json_episode(graph):\n",
        "    data = {\n",
        "        'id': 'PROD001',\n",
        "        'name': 'Allbirds Wool Runners',\n",
        "        'material': 'Merino Wool',\n",
        "        'price': 120.0,\n",
        "        'in_stock': True,\n",
        "        'last_updated': '2025-03-01T12:00:00Z',\n",
        "    }\n",
        "    await graph.add_episode(\n",
        "        name='Product_Update_1',\n",
        "        episode_body=data,\n",
        "        source=EpisodeType.json,\n",
        "        source_description='Product catalog update',\n",
        "        reference_time=datetime.now(tz=timezone.utc),\n",
        "    )\n",
        "\n",
        "async def run_additions(graph):\n",
        "    await add_text_episode(graph)\n",
        "    await add_message_episode(graph)\n",
        "    await add_json_episode(graph)\n",
        "\n",
        "asyncio.run(run_additions(graph))\n",
        "logger.info('Episodes added')"
      ]
    },
    {
      "cell_type": "markdown",
      "metadata": {},
      "source": [
        "## Bulk Ingestion\n",
        "Use this for large initial backfills (skips edge invalidation for speed)."
      ]
    },
    {
      "cell_type": "code",
      "execution_count": null,
      "metadata": {},
      "outputs": [],
      "source": [
        "async def add_bulk(graph):\n",
        "    episodes = [\n",
        "        {\n",
        "            'name': 'Batch_Episode_1',\n",
        "            'episode_body': 'Batch text about product X.',\n",
        "            'source': EpisodeType.text,\n",
        "            'reference_time': datetime.now(tz=timezone.utc),\n",
        "        },\n",
        "    ]\n",
        "    await graph.add_episode_bulk(episodes)\n",
        "\n",
        "asyncio.run(add_bulk(graph))\n",
        "logger.info('Bulk episodes added')"
      ]
    },
    {
      "cell_type": "markdown",
      "metadata": {},
      "source": [
        "## Search Relationships (Edges)\n",
        "Hybrid search with temporal filters."
      ]
    },
    {
      "cell_type": "code",
      "execution_count": null,
      "metadata": {},
      "outputs": [],
      "source": [
        "from graphiti_core.search.search_config import EdgeSearchConfig\n",
        "\n",
        "async def search_edges(graph):\n",
        "    results = await graph.search_edges(\n",
        "        query='User complaints about Allbirds durability',\n",
        "        config=EdgeSearchConfig(\n",
        "            max_results=10,\n",
        "            search_type='hybrid',\n",
        "            since=datetime(2025, 1, 1, tzinfo=timezone.utc),\n",
        "        ),\n",
        "    )\n",
        "    return results\n",
        "\n",
        "edges = asyncio.run(search_edges(graph))\n",
        "logger.info(f'Edges found: {len(edges)}')\n",
        "# Display first result (shape may vary by version)\n",
        "edges[:1]"
      ]
    },
    {
      "cell_type": "markdown",
      "metadata": {},
      "source": [
        "## Search Entities (Nodes)\n",
        "Use a prebuilt hybrid recipe (RRF-based)."
      ]
    },
    {
      "cell_type": "code",
      "execution_count": null,
      "metadata": {},
      "outputs": [],
      "source": [
        "from graphiti_core.search.search_config_recipes import NODE_HYBRID_SEARCH_RRF\n",
        "\n",
        "async def search_nodes(graph):\n",
        "    results = await graph.search_nodes(\n",
        "        query='Products loved by Alice',\n",
        "        config=NODE_HYBRID_SEARCH_RRF(max_results=5),\n",
        "    )\n",
        "    return results\n",
        "\n",
        "nodes = asyncio.run(search_nodes(graph))\n",
        "logger.info(f'Nodes found: {len(nodes)}')\n",
        "nodes[:5]"
      ]
    },
    {
      "cell_type": "markdown",
      "metadata": {},
      "source": [
        "## Advanced: Alternate LLMs/Embedders\n",
        "Swap in Gemini or Anthropic clients and corresponding embedders. Exact APIs may vary by version."
      ]
    },
    {
      "cell_type": "code",
      "execution_count": null,
      "metadata": {},
      "outputs": [],
      "source": [
        "# Example (commented to avoid accidental execution without creds):\n",
        "# from graphiti_core.llm_client.gemini_client import GeminiClient, LLMConfig\n",
        "# from graphiti_core.embedder.gemini import GeminiEmbedder, GeminiEmbedderConfig\n",
        "# llm = GeminiClient(LLMConfig(model='gemini-1.5-pro'))\n",
        "# embedder = GeminiEmbedder(GeminiEmbedderConfig(model='text-embedding-004'))\n",
        "# graph = asyncio.run(Graphiti.build(NEO4J_URI, NEO4J_USER, NEO4J_PASSWORD, llm_client=llm, embedder=embedder))\n",
        "logger.info('See README for more provider options')"
      ]
    },
    {
      "cell_type": "markdown",
      "metadata": {},
      "source": [
        "## Agent Demo (LangGraph)\n",
        "Use a simple Retrieve → Generate agent that consults Graphiti before answering."
      ]
    },
    {
      "cell_type": "code",
      "execution_count": null,
      "metadata": {},
      "outputs": [],
      "source": [
        "# Optional: install agent deps if missing\n",
        "# %pip install -q langgraph langchain langchain-openai\n",
        "from graphiti_streamlit_agent.agent import build_agent, run_agent_once\n",
        "\n",
        "query = 'What does Alice like and dislike?'\n",
        "result = run_agent_once(graph, query, model_name='gpt-4o-mini')\n",
        "print('Answer:\n', result.get('answer'))\n",
        "print('\nMemory preview:')\n",
        "mem = result.get('memory_results', [])\n",
        "print(mem[:3])"
      ]
    },
    {
      "cell_type": "markdown",
      "metadata": {},
      "source": [
        "## Multi-turn Agent Demo\n",
        "Run a short conversation. History feeds into the agent prompt and retrieval."
      ]
    },
    {
      "cell_type": "code",
      "execution_count": null,
      "metadata": {},
      "outputs": [],
      "source": [
        "from graphiti_streamlit_agent.agent import run_agent_conversation\n",
        "\n",
        "turns = [\n",
        "    { 'role': 'user', 'content': 'Hi, what does Alice like?' },\n",
        "    { 'role': 'assistant', 'content': '…' },\n",
        "    { 'role': 'user', 'content': 'Any issues she reported later?' },\n",
        "]\n",
        "state = run_agent_conversation(graph, turns, model_name='gpt-4o-mini')\n",
        "print('Final answer:\n', state.get('answer'))\n",
        "print('\nHistory (last 4 turns):')\n",
        "print(state.get('history', [])[-4:])\n"
      ]
    },
    {
      "cell_type": "markdown",
      "metadata": {},
      "source": [
        "## Edge-aware Retrieval (Anchor Rerank)\n",
        "Search edges and bubble up those related to a focal anchor (e.g., Alice)."
      ]
    },
    {
      "cell_type": "code",
      "execution_count": null,
      "metadata": {},
      "outputs": [],
      "source": [
        "from datetime import datetime, timezone\n",
        "from graphiti_streamlit_agent.agent import search_edges_anchor_rerank\n",
        "\n",
        "edges = search_edges_anchor_rerank(\n",
        "    graph, query='complaints about shoes', anchor='Alice',\n",
        "    since=datetime(2024,1,1,tzinfo=timezone.utc), max_results=15\n",
        ")\n",
        "# Preview top 5\n",
        "edges[:5]"
      ]
    }
  ],
  "metadata": {
    "kernelspec": {
      "display_name": "Python 3",
      "language": "python",
      "name": "python3"
    },
    "language_info": {
      "name": "python",
      "version": "3.x"
    }
  },
  "nbformat": 4,
  "nbformat_minor": 5
}