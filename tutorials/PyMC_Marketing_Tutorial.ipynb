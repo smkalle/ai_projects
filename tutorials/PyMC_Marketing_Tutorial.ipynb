{
  "cells": [
    {
      "cell_type": "markdown",
      "id": "c8a59f28",
      "metadata": {
        "id": "c8a59f28"
      },
      "source": [
        "# PyMC Marketing Colab Notebook  \n",
        "*Hands‑on MMM & CLV in Python*"
      ]
    },
    {
      "cell_type": "code",
      "execution_count": 1,
      "id": "39a30f88",
      "metadata": {
        "id": "39a30f88",
        "outputId": "4035bb94-dd1d-43b5-b80b-783669605a83",
        "colab": {
          "base_uri": "https://localhost:8080/"
        }
      },
      "outputs": [
        {
          "output_type": "stream",
          "name": "stdout",
          "text": [
            "\u001b[33mWARNING: pymc-marketing 0.15.0 does not provide the extra 'extra'\u001b[0m\u001b[33m\n",
            "\u001b[2K   \u001b[90m━━━━━━━━━━━━━━━━━━━━━━━━━━━━━━━━━━━━━━━━\u001b[0m \u001b[32m519.6/519.6 kB\u001b[0m \u001b[31m11.3 MB/s\u001b[0m eta \u001b[36m0:00:00\u001b[0m\n",
            "\u001b[2K   \u001b[90m━━━━━━━━━━━━━━━━━━━━━━━━━━━━━━━━━━━━━━━━\u001b[0m \u001b[32m295.3/295.3 kB\u001b[0m \u001b[31m14.9 MB/s\u001b[0m eta \u001b[36m0:00:00\u001b[0m\n",
            "\u001b[?25h"
          ]
        }
      ],
      "source": [
        "!pip install pymc-marketing[extra] --quiet"
      ]
    },
    {
      "cell_type": "markdown",
      "id": "469818bd",
      "metadata": {
        "id": "469818bd"
      },
      "source": [
        "## Verify installation"
      ]
    },
    {
      "cell_type": "code",
      "execution_count": 2,
      "id": "44e9162a",
      "metadata": {
        "id": "44e9162a",
        "outputId": "c2949707-c57c-4ea4-891f-dfeca00f3f30",
        "colab": {
          "base_uri": "https://localhost:8080/"
        }
      },
      "outputs": [
        {
          "output_type": "stream",
          "name": "stdout",
          "text": [
            "PyMC Marketing: 0.15.0\n"
          ]
        }
      ],
      "source": [
        "import pymc_marketing as pmm\n",
        "print('PyMC Marketing:', pmm.__version__)"
      ]
    },
    {
      "cell_type": "code",
      "source": [
        "# prompt: Generate synthetic weekly dataset improve this code make it more robust : import numpy as np, pandas as pd, arviz as az\n",
        "# from pymc_marketing.mmm.utils import add_fourier_terms\n",
        "# rng = np.random.default_rng(42)\n",
        "# dates = pd.date_range('2018-04-01', '2021-09-01', freq='W-MON')\n",
        "# df = pd.DataFrame({'date_week': dates})\n",
        "# df['x1'] = rng.uniform(0, 1, len(df))\n",
        "# df['x2'] = rng.uniform(0, 1, len(df))\n",
        "# df['event_1'] = (df['date_week'] == '2019-05-13').astype(int)\n",
        "# df['event_2'] = (df['date_week'] == '2020-09-14').astype(int)\n",
        "# df['t'] = np.arange(len(df))\n",
        "# df = add_fourier_terms(df, date_col='date_week', period=52, order=2)\n",
        "# df.head()\n",
        "\n",
        "import numpy as np\n",
        "import pandas as pd\n",
        "import arviz as az\n",
        "import pymc_marketing as pmm\n",
        "\n",
        "# from pmm.mmm.utils.add_fourier_terms import add_fourier_terms\n",
        "\n",
        "# Verify installation (keeping this from the previous code)\n",
        "print('PyMC Marketing:', pmm.__version__)\n",
        "\n",
        "def generate_synthetic_weekly_data(start_date, end_date, freq='W-MON', num_features=2, fourier_period=52, fourier_order=2, random_state=42, event_dates=None):\n",
        "    \"\"\"\n",
        "    Generates synthetic weekly data with specified characteristics.\n",
        "\n",
        "    Args:\n",
        "        start_date (str): Start date of the date range (e.g., '2018-04-01').\n",
        "        end_date (str): End date of the date range (e.g., '2021-09-01').\n",
        "        freq (str): Frequency of the date range (e.g., 'W-MON' for weekly Monday).\n",
        "        num_features (int): Number of 'x' features to generate (e.g., x1, x2, ...).\n",
        "        fourier_period (int): Period for Fourier terms (e.g., 52 for weekly data).\n",
        "        fourier_order (int): Order of Fourier terms.\n",
        "        random_state (int): Seed for the random number generator for reproducibility.\n",
        "        event_dates (list): A list of strings representing dates for event columns.\n",
        "\n",
        "    Returns:\n",
        "        pandas.DataFrame: A DataFrame containing the synthetic data.\n",
        "    \"\"\"\n",
        "    rng = np.random.default_rng(random_state)\n",
        "    dates = pd.date_range(start_date, end_date, freq=freq)\n",
        "    df = pd.DataFrame({'date_week': dates})\n",
        "\n",
        "    # Generate features\n",
        "    for i in range(1, num_features + 1):\n",
        "        df[f'x{i}'] = rng.uniform(0, 1, len(df))\n",
        "\n",
        "    # Generate event columns\n",
        "    if event_dates:\n",
        "        for i, event_date_str in enumerate(event_dates):\n",
        "            try:\n",
        "                event_date = pd.to_datetime(event_date_str)\n",
        "                df[f'event_{i + 1}'] = (df['date_week'] == event_date).astype(int)\n",
        "            except ValueError:\n",
        "                print(f\"Warning: Invalid event date format for '{event_date_str}'. Skipping event column.\")\n",
        "\n",
        "\n",
        "    # Add a time index\n",
        "    df['t'] = np.arange(len(df))\n",
        "\n",
        "    # Add Fourier terms\n",
        "    if fourier_period and fourier_order:\n",
        "        df = pmm.mmm.utils.add_fourier_terms (df, date_col='date_week', period=fourier_period, order=fourier_order)\n",
        "\n",
        "    return df\n",
        "\n",
        "# Example Usage with more robust parameters\n",
        "start_date = '2018-04-01'\n",
        "end_date = '2021-09-01'\n",
        "num_features = 3 # Generate x1, x2, x3\n",
        "event_dates = ['2019-05-13', '2020-09-14', '2021-01-01'] # Add more event dates\n",
        "fourier_period = 52\n",
        "fourier_order = 3 # Increase Fourier order\n",
        "\n",
        "df = generate_synthetic_weekly_data(\n",
        "    start_date=start_date,\n",
        "    end_date=end_date,\n",
        "    num_features=num_features,\n",
        "    event_dates=event_dates,\n",
        "    fourier_period=fourier_period,\n",
        "    fourier_order=fourier_order,\n",
        "    random_state=123 # Use a different random state\n",
        ")\n",
        "\n",
        "print(df.head())\n",
        "print(\"\\nDataFrame Info:\")\n",
        "df.info()\n",
        "print(\"\\nDataFrame Description:\")\n",
        "print(df.describe())\n"
      ],
      "metadata": {
        "id": "0iG96RE1hLOM",
        "outputId": "a7ddcdf4-5dfe-48ec-e616-949e8fc330f6",
        "colab": {
          "base_uri": "https://localhost:8080/",
          "height": 402
        }
      },
      "id": "0iG96RE1hLOM",
      "execution_count": 3,
      "outputs": [
        {
          "output_type": "error",
          "ename": "ImportError",
          "evalue": "cannot import name 'add_fourier_terms' from 'pymc_marketing.mmm.utils' (/usr/local/lib/python3.11/dist-packages/pymc_marketing/mmm/utils.py)",
          "traceback": [
            "\u001b[0;31m---------------------------------------------------------------------------\u001b[0m",
            "\u001b[0;31mImportError\u001b[0m                               Traceback (most recent call last)",
            "\u001b[0;32m/tmp/ipython-input-3-97814741.py\u001b[0m in \u001b[0;36m<cell line: 0>\u001b[0;34m()\u001b[0m\n\u001b[1;32m     15\u001b[0m \u001b[0;32mimport\u001b[0m \u001b[0mpandas\u001b[0m \u001b[0;32mas\u001b[0m \u001b[0mpd\u001b[0m\u001b[0;34m\u001b[0m\u001b[0;34m\u001b[0m\u001b[0m\n\u001b[1;32m     16\u001b[0m \u001b[0;32mimport\u001b[0m \u001b[0marviz\u001b[0m \u001b[0;32mas\u001b[0m \u001b[0maz\u001b[0m\u001b[0;34m\u001b[0m\u001b[0;34m\u001b[0m\u001b[0m\n\u001b[0;32m---> 17\u001b[0;31m \u001b[0;32mfrom\u001b[0m \u001b[0mpymc_marketing\u001b[0m\u001b[0;34m.\u001b[0m\u001b[0mmmm\u001b[0m\u001b[0;34m.\u001b[0m\u001b[0mutils\u001b[0m \u001b[0;32mimport\u001b[0m \u001b[0madd_fourier_terms\u001b[0m\u001b[0;34m\u001b[0m\u001b[0;34m\u001b[0m\u001b[0m\n\u001b[0m\u001b[1;32m     18\u001b[0m \u001b[0;32mimport\u001b[0m \u001b[0mpymc_marketing\u001b[0m \u001b[0;32mas\u001b[0m \u001b[0mpmm\u001b[0m\u001b[0;34m\u001b[0m\u001b[0;34m\u001b[0m\u001b[0m\n\u001b[1;32m     19\u001b[0m \u001b[0;34m\u001b[0m\u001b[0m\n",
            "\u001b[0;31mImportError\u001b[0m: cannot import name 'add_fourier_terms' from 'pymc_marketing.mmm.utils' (/usr/local/lib/python3.11/dist-packages/pymc_marketing/mmm/utils.py)",
            "",
            "\u001b[0;31m---------------------------------------------------------------------------\u001b[0;32m\nNOTE: If your import is failing due to a missing package, you can\nmanually install dependencies using either !pip or !apt.\n\nTo view examples of installing some common dependencies, click the\n\"Open Examples\" button below.\n\u001b[0;31m---------------------------------------------------------------------------\u001b[0m\n"
          ],
          "errorDetails": {
            "actions": [
              {
                "action": "open_url",
                "actionText": "Open Examples",
                "url": "/notebooks/snippets/importing_libraries.ipynb"
              }
            ]
          }
        }
      ]
    },
    {
      "cell_type": "markdown",
      "id": "d5c29451",
      "metadata": {
        "id": "d5c29451"
      },
      "source": [
        "## Generate synthetic weekly dataset"
      ]
    },
    {
      "cell_type": "code",
      "execution_count": null,
      "id": "18ec4ff0",
      "metadata": {
        "id": "18ec4ff0"
      },
      "outputs": [],
      "source": [
        "import numpy as np, pandas as pd, arviz as az\n",
        "from pymc_marketing.mmm.utils import add_fourier_terms\n",
        "\n",
        "rng = np.random.default_rng(42)\n",
        "dates = pd.date_range('2018-04-01', '2021-09-01', freq='W-MON')\n",
        "df = pd.DataFrame({'date_week': dates})\n",
        "df['x1'] = rng.uniform(0, 1, len(df))\n",
        "df['x2'] = rng.uniform(0, 1, len(df))\n",
        "df['event_1'] = (df['date_week'] == '2019-05-13').astype(int)\n",
        "df['event_2'] = (df['date_week'] == '2020-09-14').astype(int)\n",
        "df['t'] = np.arange(len(df))\n",
        "df = add_fourier_terms(df, date_col='date_week', period=52, order=2)\n",
        "df.head()"
      ]
    },
    {
      "cell_type": "markdown",
      "id": "1670d7bd",
      "metadata": {
        "id": "1670d7bd"
      },
      "source": [
        "## Specify and fit MMM"
      ]
    },
    {
      "cell_type": "code",
      "execution_count": null,
      "id": "59c4b93b",
      "metadata": {
        "id": "59c4b93b"
      },
      "outputs": [],
      "source": [
        "from pymc_marketing.mmm import MMM, GeometricAdstock, LogisticSaturation\n",
        "from pymc_marketing.prior import Prior\n",
        "\n",
        "model_cfg = {\n",
        "    \"intercept\": Prior(\"Normal\", mu=0.5, sigma=0.2),\n",
        "    \"saturation_beta\": Prior(\"HalfNormal\", sigma=[1.0, 1.0]),\n",
        "    \"gamma_control\": Prior(\"Normal\", mu=0, sigma=0.05),\n",
        "    \"gamma_fourier\": Prior(\"Laplace\", mu=0, b=0.2),\n",
        "    \"likelihood\": Prior(\"Normal\", sigma=Prior(\"HalfNormal\", sigma=6)),\n",
        "}\n",
        "\n",
        "mmm = MMM(\n",
        "    model_config=model_cfg,\n",
        "    date_column=\"date_week\",\n",
        "    adstock=GeometricAdstock(l_max=8),\n",
        "    saturation=LogisticSaturation(),\n",
        "    channel_columns=[\"x1\", \"x2\"],\n",
        "    control_columns=[\"event_1\", \"event_2\", \"t\"],\n",
        "    yearly_seasonality=2,\n",
        ")\n",
        "\n",
        "X = df[['x1', 'x2', 'event_1', 'event_2', 't']]\n",
        "y = rng.normal(loc=10 + 3*df['x1'] + 2*df['x2'], scale=1.0)\n",
        "\n",
        "mmm.fit(X, y,\n",
        "        chains=4,\n",
        "        target_accept=0.9,\n",
        "        nuts_sampler='numpyro',\n",
        "        random_seed=rng)"
      ]
    },
    {
      "cell_type": "markdown",
      "id": "c806b726",
      "metadata": {
        "id": "c806b726"
      },
      "source": [
        "## Diagnostics & posterior predictive"
      ]
    },
    {
      "cell_type": "code",
      "execution_count": null,
      "id": "b28bb8ec",
      "metadata": {
        "id": "b28bb8ec"
      },
      "outputs": [],
      "source": [
        "import matplotlib.pyplot as plt\n",
        "mmm.plot_posterior_predictive(original_scale=True)\n",
        "plt.show()\n",
        "mmm.plot_components_contributions(original_scale=True)\n",
        "plt.show()"
      ]
    },
    {
      "cell_type": "markdown",
      "id": "db9a6e25",
      "metadata": {
        "id": "db9a6e25"
      },
      "source": [
        "## Forecasting scenario"
      ]
    },
    {
      "cell_type": "code",
      "execution_count": null,
      "id": "7f8b0104",
      "metadata": {
        "id": "7f8b0104"
      },
      "outputs": [],
      "source": [
        "future = df.tail(8).copy()\n",
        "future['x1'] *= 1.2\n",
        "future['x2'] *= 0.8\n",
        "forecast = mmm.predict(future, include_last_observations=True)\n",
        "forecast.head()"
      ]
    }
  ],
  "metadata": {
    "colab": {
      "provenance": []
    },
    "language_info": {
      "name": "python"
    },
    "kernelspec": {
      "name": "python3",
      "display_name": "Python 3"
    }
  },
  "nbformat": 4,
  "nbformat_minor": 5
}