{
 "cells": [
  {
   "cell_type": "markdown",
   "id": "c8a59f28",
   "metadata": {},
   "source": [
    "# PyMC Marketing Colab Notebook  \n",
    "*Hands‑on MMM & CLV in Python*"
   ]
  },
  {
   "cell_type": "code",
   "execution_count": null,
   "id": "39a30f88",
   "metadata": {},
   "outputs": [],
   "source": [
    "!pip install pymc-marketing[extra] --quiet"
   ]
  },
  {
   "cell_type": "markdown",
   "id": "469818bd",
   "metadata": {},
   "source": [
    "## Verify installation"
   ]
  },
  {
   "cell_type": "code",
   "execution_count": null,
   "id": "44e9162a",
   "metadata": {},
   "outputs": [],
   "source": [
    "import pymc_marketing as pmm\n",
    "print('PyMC Marketing:', pmm.__version__)"
   ]
  },
  {
   "cell_type": "markdown",
   "id": "d5c29451",
   "metadata": {},
   "source": [
    "## Generate synthetic weekly dataset"
   ]
  },
  {
   "cell_type": "code",
   "execution_count": null,
   "id": "18ec4ff0",
   "metadata": {},
   "outputs": [],
   "source": [
    "import numpy as np, pandas as pd, arviz as az\n",
    "from pymc_marketing.mmm.utils import add_fourier_terms\n",
    "\n",
    "rng = np.random.default_rng(42)\n",
    "dates = pd.date_range('2018-04-01', '2021-09-01', freq='W-MON')\n",
    "df = pd.DataFrame({'date_week': dates})\n",
    "df['x1'] = rng.uniform(0, 1, len(df))\n",
    "df['x2'] = rng.uniform(0, 1, len(df))\n",
    "df['event_1'] = (df['date_week'] == '2019-05-13').astype(int)\n",
    "df['event_2'] = (df['date_week'] == '2020-09-14').astype(int)\n",
    "df['t'] = np.arange(len(df))\n",
    "df = add_fourier_terms(df, date_col='date_week', period=52, order=2)\n",
    "df.head()"
   ]
  },
  {
   "cell_type": "markdown",
   "id": "1670d7bd",
   "metadata": {},
   "source": [
    "## Specify and fit MMM"
   ]
  },
  {
   "cell_type": "code",
   "execution_count": null,
   "id": "59c4b93b",
   "metadata": {},
   "outputs": [],
   "source": [
    "from pymc_marketing.mmm import MMM, GeometricAdstock, LogisticSaturation\n",
    "from pymc_marketing.prior import Prior\n",
    "\n",
    "model_cfg = {\n",
    "    \"intercept\": Prior(\"Normal\", mu=0.5, sigma=0.2),\n",
    "    \"saturation_beta\": Prior(\"HalfNormal\", sigma=[1.0, 1.0]),\n",
    "    \"gamma_control\": Prior(\"Normal\", mu=0, sigma=0.05),\n",
    "    \"gamma_fourier\": Prior(\"Laplace\", mu=0, b=0.2),\n",
    "    \"likelihood\": Prior(\"Normal\", sigma=Prior(\"HalfNormal\", sigma=6)),\n",
    "}\n",
    "\n",
    "mmm = MMM(\n",
    "    model_config=model_cfg,\n",
    "    date_column=\"date_week\",\n",
    "    adstock=GeometricAdstock(l_max=8),\n",
    "    saturation=LogisticSaturation(),\n",
    "    channel_columns=[\"x1\", \"x2\"],\n",
    "    control_columns=[\"event_1\", \"event_2\", \"t\"],\n",
    "    yearly_seasonality=2,\n",
    ")\n",
    "\n",
    "X = df[['x1', 'x2', 'event_1', 'event_2', 't']]\n",
    "y = rng.normal(loc=10 + 3*df['x1'] + 2*df['x2'], scale=1.0)\n",
    "\n",
    "mmm.fit(X, y,\n",
    "        chains=4,\n",
    "        target_accept=0.9,\n",
    "        nuts_sampler='numpyro',\n",
    "        random_seed=rng)"
   ]
  },
  {
   "cell_type": "markdown",
   "id": "c806b726",
   "metadata": {},
   "source": [
    "## Diagnostics & posterior predictive"
   ]
  },
  {
   "cell_type": "code",
   "execution_count": null,
   "id": "b28bb8ec",
   "metadata": {},
   "outputs": [],
   "source": [
    "import matplotlib.pyplot as plt\n",
    "mmm.plot_posterior_predictive(original_scale=True)\n",
    "plt.show()\n",
    "mmm.plot_components_contributions(original_scale=True)\n",
    "plt.show()"
   ]
  },
  {
   "cell_type": "markdown",
   "id": "db9a6e25",
   "metadata": {},
   "source": [
    "## Forecasting scenario"
   ]
  },
  {
   "cell_type": "code",
   "execution_count": null,
   "id": "7f8b0104",
   "metadata": {},
   "outputs": [],
   "source": [
    "future = df.tail(8).copy()\n",
    "future['x1'] *= 1.2\n",
    "future['x2'] *= 0.8\n",
    "forecast = mmm.predict(future, include_last_observations=True)\n",
    "forecast.head()"
   ]
  }
 ],
 "metadata": {},
 "nbformat": 4,
 "nbformat_minor": 5
}
