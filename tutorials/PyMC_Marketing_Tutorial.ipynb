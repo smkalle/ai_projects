{
  "cells": [
    {
      "cell_type": "markdown",
      "metadata": {
        "id": "view-in-github",
        "colab_type": "text"
      },
      "source": [
        "<a href=\"https://colab.research.google.com/github/smkalle/ai_projects/blob/main/tutorials/PyMC_Marketing_Tutorial.ipynb\" target=\"_parent\"><img src=\"https://colab.research.google.com/assets/colab-badge.svg\" alt=\"Open In Colab\"/></a>"
      ]
    },
    {
      "cell_type": "markdown",
      "id": "c8a59f28",
      "metadata": {
        "id": "c8a59f28"
      },
      "source": [
        "# PyMC Marketing Colab Notebook  \n",
        "*Hands‑on MMM & CLV in Python*"
      ]
    },
    {
      "cell_type": "code",
      "execution_count": 1,
      "id": "39a30f88",
      "metadata": {
        "id": "39a30f88",
        "outputId": "d30dc95c-4a4d-43e6-b6d4-2390e0104b10",
        "colab": {
          "base_uri": "https://localhost:8080/"
        }
      },
      "outputs": [
        {
          "output_type": "stream",
          "name": "stdout",
          "text": [
            "\u001b[33mWARNING: pymc-marketing 0.15.0 does not provide the extra 'extra'\u001b[0m\u001b[33m\n",
            "\u001b[2K   \u001b[90m━━━━━━━━━━━━━━━━━━━━━━━━━━━━━━━━━━━━━━━━\u001b[0m \u001b[32m1.7/1.7 MB\u001b[0m \u001b[31m26.2 MB/s\u001b[0m eta \u001b[36m0:00:00\u001b[0m\n",
            "\u001b[2K   \u001b[90m━━━━━━━━━━━━━━━━━━━━━━━━━━━━━━━━━━━━━━━━\u001b[0m \u001b[32m519.6/519.6 kB\u001b[0m \u001b[31m35.5 MB/s\u001b[0m eta \u001b[36m0:00:00\u001b[0m\n",
            "\u001b[2K   \u001b[90m━━━━━━━━━━━━━━━━━━━━━━━━━━━━━━━━━━━━━━━━\u001b[0m \u001b[32m519.6/519.6 kB\u001b[0m \u001b[31m36.2 MB/s\u001b[0m eta \u001b[36m0:00:00\u001b[0m\n",
            "\u001b[2K   \u001b[90m━━━━━━━━━━━━━━━━━━━━━━━━━━━━━━━━━━━━━━━━\u001b[0m \u001b[32m2.1/2.1 MB\u001b[0m \u001b[31m72.6 MB/s\u001b[0m eta \u001b[36m0:00:00\u001b[0m\n",
            "\u001b[2K   \u001b[90m━━━━━━━━━━━━━━━━━━━━━━━━━━━━━━━━━━━━━━━━\u001b[0m \u001b[32m1.3/1.3 MB\u001b[0m \u001b[31m63.6 MB/s\u001b[0m eta \u001b[36m0:00:00\u001b[0m\n",
            "\u001b[2K   \u001b[90m━━━━━━━━━━━━━━━━━━━━━━━━━━━━━━━━━━━━━━━━\u001b[0m \u001b[32m295.3/295.3 kB\u001b[0m \u001b[31m23.9 MB/s\u001b[0m eta \u001b[36m0:00:00\u001b[0m\n",
            "\u001b[2K   \u001b[90m━━━━━━━━━━━━━━━━━━━━━━━━━━━━━━━━━━━━━━━━\u001b[0m \u001b[32m50.5/50.5 kB\u001b[0m \u001b[31m4.8 MB/s\u001b[0m eta \u001b[36m0:00:00\u001b[0m\n",
            "\u001b[?25h"
          ]
        }
      ],
      "source": [
        "!pip install pymc-marketing[extra] --quiet"
      ]
    },
    {
      "cell_type": "markdown",
      "id": "469818bd",
      "metadata": {
        "id": "469818bd"
      },
      "source": [
        "## Verify installation"
      ]
    },
    {
      "cell_type": "code",
      "execution_count": 2,
      "id": "44e9162a",
      "metadata": {
        "id": "44e9162a",
        "outputId": "878df41c-97c3-489f-b6ba-8e2932fa5858",
        "colab": {
          "base_uri": "https://localhost:8080/"
        }
      },
      "outputs": [
        {
          "output_type": "stream",
          "name": "stdout",
          "text": [
            "PyMC Marketing: 0.15.0\n"
          ]
        }
      ],
      "source": [
        "import pymc_marketing as pmm\n",
        "print('PyMC Marketing:', pmm.__version__)"
      ]
    },
    {
      "cell_type": "markdown",
      "id": "d5c29451",
      "metadata": {
        "id": "d5c29451"
      },
      "source": [
        "## Generate synthetic weekly dataset"
      ]
    },
    {
      "cell_type": "code",
      "execution_count": null,
      "id": "18ec4ff0",
      "metadata": {
        "id": "18ec4ff0"
      },
      "outputs": [],
      "source": [
        "import numpy as np, pandas as pd, arviz as az\n",
        "from pymc_marketing.mmm.utils import add_fourier_terms\n",
        "\n",
        "rng = np.random.default_rng(42)\n",
        "dates = pd.date_range('2018-04-01', '2021-09-01', freq='W-MON')\n",
        "df = pd.DataFrame({'date_week': dates})\n",
        "df['x1'] = rng.uniform(0, 1, len(df))\n",
        "df['x2'] = rng.uniform(0, 1, len(df))\n",
        "df['event_1'] = (df['date_week'] == '2019-05-13').astype(int)\n",
        "df['event_2'] = (df['date_week'] == '2020-09-14').astype(int)\n",
        "df['t'] = np.arange(len(df))\n",
        "df = add_fourier_terms(df, date_col='date_week', period=52, order=2)\n",
        "df.head()"
      ]
    },
    {
      "cell_type": "markdown",
      "id": "1670d7bd",
      "metadata": {
        "id": "1670d7bd"
      },
      "source": [
        "## Specify and fit MMM"
      ]
    },
    {
      "cell_type": "code",
      "execution_count": null,
      "id": "59c4b93b",
      "metadata": {
        "id": "59c4b93b"
      },
      "outputs": [],
      "source": [
        "from pymc_marketing.mmm import MMM, GeometricAdstock, LogisticSaturation\n",
        "from pymc_marketing.prior import Prior\n",
        "\n",
        "model_cfg = {\n",
        "    \"intercept\": Prior(\"Normal\", mu=0.5, sigma=0.2),\n",
        "    \"saturation_beta\": Prior(\"HalfNormal\", sigma=[1.0, 1.0]),\n",
        "    \"gamma_control\": Prior(\"Normal\", mu=0, sigma=0.05),\n",
        "    \"gamma_fourier\": Prior(\"Laplace\", mu=0, b=0.2),\n",
        "    \"likelihood\": Prior(\"Normal\", sigma=Prior(\"HalfNormal\", sigma=6)),\n",
        "}\n",
        "\n",
        "mmm = MMM(\n",
        "    model_config=model_cfg,\n",
        "    date_column=\"date_week\",\n",
        "    adstock=GeometricAdstock(l_max=8),\n",
        "    saturation=LogisticSaturation(),\n",
        "    channel_columns=[\"x1\", \"x2\"],\n",
        "    control_columns=[\"event_1\", \"event_2\", \"t\"],\n",
        "    yearly_seasonality=2,\n",
        ")\n",
        "\n",
        "X = df[['x1', 'x2', 'event_1', 'event_2', 't']]\n",
        "y = rng.normal(loc=10 + 3*df['x1'] + 2*df['x2'], scale=1.0)\n",
        "\n",
        "mmm.fit(X, y,\n",
        "        chains=4,\n",
        "        target_accept=0.9,\n",
        "        nuts_sampler='numpyro',\n",
        "        random_seed=rng)"
      ]
    },
    {
      "cell_type": "markdown",
      "id": "c806b726",
      "metadata": {
        "id": "c806b726"
      },
      "source": [
        "## Diagnostics & posterior predictive"
      ]
    },
    {
      "cell_type": "code",
      "execution_count": null,
      "id": "b28bb8ec",
      "metadata": {
        "id": "b28bb8ec"
      },
      "outputs": [],
      "source": [
        "import matplotlib.pyplot as plt\n",
        "mmm.plot_posterior_predictive(original_scale=True)\n",
        "plt.show()\n",
        "mmm.plot_components_contributions(original_scale=True)\n",
        "plt.show()"
      ]
    },
    {
      "cell_type": "markdown",
      "id": "db9a6e25",
      "metadata": {
        "id": "db9a6e25"
      },
      "source": [
        "## Forecasting scenario"
      ]
    },
    {
      "cell_type": "code",
      "execution_count": null,
      "id": "7f8b0104",
      "metadata": {
        "id": "7f8b0104"
      },
      "outputs": [],
      "source": [
        "future = df.tail(8).copy()\n",
        "future['x1'] *= 1.2\n",
        "future['x2'] *= 0.8\n",
        "forecast = mmm.predict(future, include_last_observations=True)\n",
        "forecast.head()"
      ]
    }
  ],
  "metadata": {
    "colab": {
      "provenance": [],
      "gpuType": "V28",
      "include_colab_link": true
    },
    "language_info": {
      "name": "python"
    },
    "kernelspec": {
      "name": "python3",
      "display_name": "Python 3"
    },
    "accelerator": "TPU"
  },
  "nbformat": 4,
  "nbformat_minor": 5
}