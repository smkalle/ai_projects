{
 "cells": [
  {
   "cell_type": "markdown",
   "id": "06f079fd",
   "metadata": {},
   "source": [
    "# LangChain + MongoDB Text-to-MQL Demo"
   ]
  },
  {
   "cell_type": "code",
   "execution_count": null,
   "id": "fbee4c5c",
   "metadata": {},
   "outputs": [],
   "source": [
    "!pip install langchain langchain-mongodb pymongo python-dotenv openai"
   ]
  },
  {
   "cell_type": "code",
   "execution_count": null,
   "id": "9b768eca",
   "metadata": {},
   "outputs": [],
   "source": [
    "from pymongo import MongoClient\n",
    "from dotenv import load_dotenv\n",
    "import os\n",
    "\n",
    "load_dotenv()\n",
    "client = MongoClient(os.getenv(\"MONGODB_URI\"))\n",
    "db = client[\"customer_support\"]\n",
    "tickets = db[\"tickets\"]\n",
    "tickets.insert_many([\n",
    "    {\"ticket_id\": 1, \"customer_name\": \"Alice\", \"issue\": \"Refund request\", \"status\": \"unresolved\", \"date\": \"2025-06-25\"},\n",
    "    {\"ticket_id\": 2, \"customer_name\": \"Bob\", \"issue\": \"Tech support\", \"status\": \"resolved\", \"date\": \"2025-06-20\"},\n",
    "    {\"ticket_id\": 3, \"customer_name\": \"Charlie\", \"issue\": \"Billing issue\", \"status\": \"unresolved\", \"date\": \"2025-06-28\"}\n",
    "]) if tickets.estimated_document_count() == 0 else None\n"
   ]
  },
  {
   "cell_type": "code",
   "execution_count": null,
   "id": "285bbb1b",
   "metadata": {},
   "outputs": [],
   "source": [
    "from langchain_mongodb import MongoDBAgentToolkit\n",
    "from langchain.agents import AgentExecutor, create_react_agent\n",
    "from langchain.prompts import PromptTemplate\n",
    "\n",
    "toolkit = MongoDBAgentToolkit(\n",
    "    client=client,\n",
    "    database_name=\"customer_support\",\n",
    "    llm_model=\"openai\",\n",
    "    api_key=os.getenv(\"OPENAI_API_KEY\")\n",
    ")\n",
    "\n",
    "prompt = PromptTemplate.from_template(\"\"\"\n",
    "You are a support assistant. Use the tools to answer this:\n",
    "Query: {query}\n",
    "Tools: {tools}\n",
    "\"\"\")\n",
    "\n",
    "agent = create_react_agent(toolkit.llm, toolkit.get_tools(), prompt)\n",
    "executor = AgentExecutor(agent=agent, tools=toolkit.get_tools(), verbose=True)\n",
    "\n",
    "def ask(q): return executor.run(query=q)\n",
    "ask(\"Show me unresolved tickets from the last week\")\n"
   ]
  }
 ],
 "metadata": {},
 "nbformat": 4,
 "nbformat_minor": 5
}
