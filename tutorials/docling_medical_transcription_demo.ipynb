{
  "cells": [
    {
      "cell_type": "markdown",
      "metadata": {},
      "source": [
        "# Docling Medical Document Processing Demo \ud83d\ude91\ud83d\udcc4\n",
        "Hands\u2011on companion notebook for the **Medical Document Processing with Docling** tutorial.\n",
        "\n",
        "\u26a0\ufe0f *Run this in a clean Python\u00a03.9+ environment.*"
      ]
    },
    {
      "cell_type": "markdown",
      "metadata": {},
      "source": [
        "## Installation\n",
        "```bash\n",
        "pip install torch  # choose CPU\u202for\u202fCUDA wheel\n",
        "pip install docling\n",
        "```\n"
      ]
    },
    {
      "cell_type": "code",
      "execution_count": null,
      "metadata": {},
      "outputs": [],
      "source": [
        "# Quick sanity\u2011check\n",
        "import docling, torch, platform\n",
        "print('Docling:', docling.__version__, '| Torch:', torch.__version__, '| Python', platform.python_version())"
      ]
    },
    {
      "cell_type": "code",
      "execution_count": null,
      "metadata": {},
      "outputs": [],
      "source": [
        "from docling.document_converter import DocumentConverter\n",
        "converter = DocumentConverter()\n",
        "# \ud83d\udc49 Replace with your own file\n",
        "result = converter.convert('sample_medical_report.pdf')"
      ]
    },
    {
      "cell_type": "code",
      "execution_count": null,
      "metadata": {},
      "outputs": [],
      "source": [
        "# Extract and preview markdown\n",
        "md = result.document.export_to_markdown()\n",
        "print(md[:800])"
      ]
    },
    {
      "cell_type": "code",
      "execution_count": null,
      "metadata": {},
      "outputs": [],
      "source": [
        "# Extract tables\n",
        "for i, t in enumerate(result.document.tables):\n",
        "    df = t.export_to_dataframe()\n",
        "    print(f'--- Table {i} ---')\n",
        "    display(df.head())"
      ]
    },
    {
      "cell_type": "markdown",
      "metadata": {},
      "source": [
        "## RAG example with LangChain\n",
        "```python\n",
        "from langchain.document_loaders import DoclingLoader\n",
        "from langchain.indexes import VectorstoreIndexCreator\n",
        "\n",
        "loader = DoclingLoader('sample_medical_report.pdf',\n",
        "                       export_type='ExportType.MARKDOWN')\n",
        "docs   = loader.load()\n",
        "index  = VectorstoreIndexCreator().from_documents(docs)\n",
        "index.query('What is the final diagnosis?')\n",
        "```\n"
      ]
    }
  ],
  "metadata": {
    "kernelspec": {
      "display_name": "Python\u00a03",
      "language": "python",
      "name": "python3"
    },
    "language_info": {
      "name": "python",
      "version": "3.9"
    }
  },
  "nbformat": 4,
  "nbformat_minor": 5
}