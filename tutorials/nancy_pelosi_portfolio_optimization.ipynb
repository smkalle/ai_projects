{
 "cells": [
  {
   "cell_type": "markdown",
   "id": "ae6439f1",
   "metadata": {},
   "source": [
    "This notebook demonstrates a *simplified* workflow for analysing and optimising a hypothetical portfolio modelled on publicly‑disclosed trades by U.S. House Speaker **Nancy Pelosi**, inspired by the @quantscience_ “1400 %” thread.\n",
    "\n",
    "> ⚠️ *Educational use only.*  \n",
    "> This example does **not** constitute financial advice and ignores factors such as taxes, commissions, leverage, and options trading.\n"
   ]
  },
  {
   "cell_type": "code",
   "execution_count": null,
   "id": "886cb430",
   "metadata": {},
   "outputs": [],
   "source": [
    "import numpy as np\n",
    "import pandas as pd\n",
    "import yfinance as yf\n",
    "import matplotlib.pyplot as plt\n",
    "\n",
    "plt.rcParams['figure.figsize'] = (10,6)\n"
   ]
  },
  {
   "cell_type": "code",
   "execution_count": null,
   "id": "9389001e",
   "metadata": {},
   "outputs": [],
   "source": [
    "# ------------------------------------------------------------------\n",
    "# 1️⃣  User inputs – adjust as desired\n",
    "# ------------------------------------------------------------------\n",
    "STOCKS      = ['AAPL', 'MSFT', 'NVDA', 'TSLA']   # Pelosi‑style tech tilt\n",
    "START_DATE  = '2015-01-01'\n",
    "END_DATE    = '2025-06-30'\n",
    "RISK_FREE   = 0.02                               # 2 % annual T‑bill proxy\n",
    "PORTFOLIOS  = 10_000                             # Monte‑Carlo samples\n"
   ]
  },
  {
   "cell_type": "code",
   "execution_count": null,
   "id": "4b81827e",
   "metadata": {},
   "outputs": [],
   "source": [
    "# ------------------------------------------------------------------\n",
    "# 2️⃣  Fetch adjusted close prices\n",
    "# ------------------------------------------------------------------\n",
    "prices = yf.download(STOCKS, start=START_DATE, end=END_DATE)['Adj Close']\n",
    "prices.head()\n"
   ]
  },
  {
   "cell_type": "code",
   "execution_count": null,
   "id": "e31d2e13",
   "metadata": {},
   "outputs": [],
   "source": [
    "# ------------------------------------------------------------------\n",
    "# 3️⃣  Compute daily log‑returns\n",
    "# ------------------------------------------------------------------\n",
    "returns = np.log(prices / prices.shift(1)).dropna()\n",
    "annualised_returns = returns.mean() * 252\n",
    "cov_matrix = returns.cov() * 252\n",
    "annualised_returns\n"
   ]
  },
  {
   "cell_type": "code",
   "execution_count": null,
   "id": "72e4fef8",
   "metadata": {},
   "outputs": [],
   "source": [
    "# ------------------------------------------------------------------\n",
    "# 4️⃣  Helper functions\n",
    "# ------------------------------------------------------------------\n",
    "def portfolio_performance(weights):\n",
    "    ret = np.dot(weights, annualised_returns)\n",
    "    vol = np.sqrt(np.dot(weights.T, np.dot(cov_matrix, weights)))\n",
    "    return ret, vol\n",
    "\n",
    "def sharpe_ratio(weights):\n",
    "    ret, vol = portfolio_performance(weights)\n",
    "    return (ret - RISK_FREE) / vol\n"
   ]
  },
  {
   "cell_type": "code",
   "execution_count": null,
   "id": "7fdfea52",
   "metadata": {},
   "outputs": [],
   "source": [
    "# ------------------------------------------------------------------\n",
    "# 5️⃣  Monte‑Carlo portfolio simulation\n",
    "# ------------------------------------------------------------------\n",
    "results = np.zeros((3, PORTFOLIOS))\n",
    "weights_record = []\n",
    "\n",
    "for i in range(PORTFOLIOS):\n",
    "    w = np.random.random(len(STOCKS))\n",
    "    w /= w.sum()\n",
    "    ret, vol = portfolio_performance(w)\n",
    "    results[0, i] = ret\n",
    "    results[1, i] = vol\n",
    "    results[2, i] = (ret - RISK_FREE) / vol\n",
    "    weights_record.append(w)\n",
    "\n",
    "max_sharpe_idx = results[2].argmax()\n",
    "opt_weights   = weights_record[max_sharpe_idx]\n",
    "opt_ret, opt_vol = portfolio_performance(opt_weights)\n",
    "opt_sharpe = (opt_ret - RISK_FREE) / opt_vol\n",
    "\n",
    "print(\"Optimal Weights:\")\n",
    "for s, w in zip(STOCKS, opt_weights):\n",
    "    print(f\"  {s:<5}: {w:.2%}\")\n",
    "\n",
    "print(f\"Expected Annual Return   : {opt_ret:.2%}\")\n",
    "print(f\"Expected Annual Volatility: {opt_vol:.2%}\")\n",
    "print(f\"Sharpe Ratio             : {opt_sharpe:.2f}\")\n"
   ]
  },
  {
   "cell_type": "code",
   "execution_count": null,
   "id": "23474312",
   "metadata": {},
   "outputs": [],
   "source": [
    "# ------------------------------------------------------------------\n",
    "# 6️⃣  Plot Efficient Frontier\n",
    "# ------------------------------------------------------------------\n",
    "plt.scatter(results[1, :], results[0, :], c=results[2, :], cmap='viridis', alpha=0.6)\n",
    "plt.colorbar(label='Sharpe Ratio')\n",
    "plt.scatter(opt_vol, opt_ret, marker='*', s=250, c='red', label='Optimal')\n",
    "plt.xlabel('Volatility (σ)')\n",
    "plt.ylabel('Return (μ)')\n",
    "plt.title('Efficient Frontier')\n",
    "plt.legend(); plt.grid(True)\n"
   ]
  },
  {
   "cell_type": "code",
   "execution_count": null,
   "id": "41e333f2",
   "metadata": {},
   "outputs": [],
   "source": [
    "# ------------------------------------------------------------------\n",
    "# 7️⃣  Simulate growth of $100 k using optimal portfolio\n",
    "# ------------------------------------------------------------------\n",
    "initial_investment = 100_000\n",
    "years = (pd.to_datetime(END_DATE) - pd.to_datetime(START_DATE)).days / 365.25\n",
    "final_value = initial_investment * (1 + opt_ret) ** years\n",
    "print(f\"Hypothetical Final Value: ${final_value:,.2f} over {years:.1f} years\")\n",
    "print(f\"Total Return            : {(final_value/initial_investment - 1):.2%}\")\n"
   ]
  },
  {
   "cell_type": "markdown",
   "id": "a2e8d028",
   "metadata": {},
   "source": [
    "> ### ⚖️ Caveats & Ethics  \n",
    "> - Congressional trades are public via the STOCK Act disclosures but **delay** can be months.  \n",
    "> - Outperformance may stem from privileged information or skilful risk‑taking; conclusions are speculative.  \n",
    "> - Real portfolios incur slippage, taxes, commissions, and may employ options/leverage not modelled here.  \n"
   ]
  }
 ],
 "metadata": {},
 "nbformat": 4,
 "nbformat_minor": 5
}
