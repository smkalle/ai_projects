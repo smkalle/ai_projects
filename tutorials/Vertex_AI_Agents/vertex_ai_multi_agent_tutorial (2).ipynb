{
 "cells": [
  {
   "cell_type": "markdown",
   "id": "b6192abd",
   "metadata": {},
   "source": [
    "# Vertex AI Multi-Agent Financial Research Assistant\n",
    "\n",
    "Recreate the **Google Cloud × Schroders** multi-agent system to speed up company analysis from days to minutes.\n",
    "\n",
    "_Last updated: 2025-07-01_\n"
   ]
  },
  {
   "cell_type": "markdown",
   "id": "5fc375f8",
   "metadata": {},
   "source": [
    "## 1. Setup and Configuration"
   ]
  },
  {
   "cell_type": "code",
   "execution_count": null,
   "id": "48f594d3",
   "metadata": {},
   "outputs": [],
   "source": [
    "import os\n",
    "from dotenv import load_dotenv\n",
    "import vertexai\n",
    "\n",
    "# Load environment variables from .env\n",
    "load_dotenv()\n",
    "\n",
    "PROJECT_ID = os.getenv(\"PROJECT_ID\")\n",
    "REGION = os.getenv(\"REGION\", \"us-central1\")\n",
    "DATASTORE_ID = os.getenv(\"DATASTORE_ID\")\n",
    "BQ_DATASET = os.getenv(\"BQ_DATASET\")\n",
    "SEARCH_API_KEY = os.getenv(\"SEARCH_API_KEY\")\n",
    "\n",
    "# Initialize Vertex AI\n",
    "vertexai.init(project=PROJECT_ID, location=REGION)\n",
    "print(f\"Vertex AI initialized for project {PROJECT_ID} in region {REGION}\")\n"
   ]
  },
  {
   "cell_type": "markdown",
   "id": "95327310",
   "metadata": {},
   "source": [
    "## 2. Define Financial Research Agents (ADK)"
   ]
  },
  {
   "cell_type": "code",
   "execution_count": null,
   "id": "46993479",
   "metadata": {},
   "outputs": [],
   "source": [
    "from adk import Agent\n",
    "from adk.tools import VertexAISearchTool, BigQueryTool, GoogleSearchTool\n",
    "\n",
    "document_agent = Agent(\n",
    "    name=\"document_search_agent\",\n",
    "    description=\"Answers queries from internal documents\",\n",
    "    model=\"gemini-1.5-flash\",\n",
    "    tools=[VertexAISearchTool(data_store_id=DATASTORE_ID)]\n",
    ")\n",
    "\n",
    "bigquery_agent = Agent(\n",
    "    name=\"bigquery_agent\",\n",
    "    description=\"Handles structured data queries\",\n",
    "    model=\"gemini-1.5-flash\",\n",
    "    tools=[BigQueryTool(project_id=PROJECT_ID, dataset_id=BQ_DATASET)]\n",
    ")\n",
    "\n",
    "web_agent = Agent(\n",
    "    name=\"web_search_agent\",\n",
    "    description=\"Searches the web for up-to-date market information\",\n",
    "    model=\"gemini-1.5-flash\",\n",
    "    tools=[GoogleSearchTool(api_key=SEARCH_API_KEY)]\n",
    ")\n"
   ]
  },
  {
   "cell_type": "markdown",
   "id": "4443c602",
   "metadata": {},
   "source": [
    "### 2.1 Define Router Agent"
   ]
  },
  {
   "cell_type": "code",
   "execution_count": null,
   "id": "56e54507",
   "metadata": {},
   "outputs": [],
   "source": [
    "router_agent = Agent(\n",
    "    name=\"router_agent\",\n",
    "    description=\"Routes queries to the correct agent based on task type\",\n",
    "    model=\"gemini-1.5-flash\",\n",
    "    tools=[document_agent, bigquery_agent, web_agent]\n",
    ")\n"
   ]
  },
  {
   "cell_type": "markdown",
   "id": "3550f936",
   "metadata": {},
   "source": [
    "## 3. Orchestrate Agents with LangGraph"
   ]
  },
  {
   "cell_type": "code",
   "execution_count": null,
   "id": "d269612c",
   "metadata": {},
   "outputs": [],
   "source": [
    "from langgraph import Graph, Node\n",
    "\n",
    "class RouterNode(Node):\n",
    "    def process(self, text):\n",
    "        if \"10-K\" in text or \"risk\" in text:\n",
    "            return document_agent.process(text)\n",
    "        elif \"revenue\" in text or \"EPS\" in text:\n",
    "            return bigquery_agent.process(text)\n",
    "        else:\n",
    "            return web_agent.process(text)\n",
    "\n",
    "graph = Graph(name=\"financial_research_assistant\")\n",
    "graph.add_node(RouterNode())\n",
    "graph.add_node(document_agent)\n",
    "graph.add_node(bigquery_agent)\n",
    "graph.add_node(web_agent)\n",
    "graph.compile()\n",
    "print(\"LangGraph compiled.\")\n"
   ]
  },
  {
   "cell_type": "markdown",
   "id": "f677f19a",
   "metadata": {},
   "source": [
    "### 3.1 Run End-to-End Agent Workflow"
   ]
  },
  {
   "cell_type": "code",
   "execution_count": null,
   "id": "e4d39a3d",
   "metadata": {},
   "outputs": [],
   "source": [
    "user_query = \"Summarize Tesla's 10-K risks and compare with revenue from last year.\"\n",
    "response = graph.run(user_query)\n",
    "print(response)\n"
   ]
  },
  {
   "cell_type": "markdown",
   "id": "a66b278b",
   "metadata": {},
   "source": [
    "## 4. Evaluate Performance with Vertex AI Evaluation"
   ]
  },
  {
   "cell_type": "code",
   "execution_count": null,
   "id": "f172a1fc",
   "metadata": {},
   "outputs": [],
   "source": [
    "from vertexai.preview.evaluation import Evaluation\n",
    "\n",
    "evaluation = Evaluation(\n",
    "    name=\"financial_research_eval\",\n",
    "    metrics=[\"accuracy\", \"latency\", \"tool_use\"]\n",
    ")\n",
    "\n",
    "# Placeholder test data: update path to real JSONL with input-output pairs\n",
    "# evaluation.run(router_agent, test_data=\"gs://your-bucket/test_data.jsonl\")\n",
    "print(\"Evaluation configuration completed. Add your test dataset to run.\")\n"
   ]
  },
  {
   "cell_type": "markdown",
   "id": "a9b8590f",
   "metadata": {},
   "source": [
    "## 5. Deploy to Vertex AI Agent Engine"
   ]
  },
  {
   "cell_type": "code",
   "execution_count": null,
   "id": "5e177caa",
   "metadata": {},
   "outputs": [],
   "source": [
    "from vertexai.preview import agent_engines\n",
    "\n",
    "engine = agent_engines.create(agent_engine=router_agent)\n",
    "print(\"Agent deployed:\", engine.resource_name)\n"
   ]
  },
  {
   "cell_type": "markdown",
   "id": "88fdc613",
   "metadata": {},
   "source": [
    "## 6. Cleanup Resources (Optional)"
   ]
  },
  {
   "cell_type": "code",
   "execution_count": null,
   "id": "ec183f47",
   "metadata": {},
   "outputs": [],
   "source": [
    "# engine.delete()\n",
    "# print(\"Agent Engine deleted.\")\n"
   ]
  }
 ],
 "metadata": {},
 "nbformat": 4,
 "nbformat_minor": 5
}