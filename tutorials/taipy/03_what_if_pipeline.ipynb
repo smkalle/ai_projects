{
 "cells": [
  {
   "cell_type": "markdown",
   "id": "eeb795db",
   "metadata": {},
   "source": [
    "# 03 – What‑If Pipeline"
   ]
  },
  {
   "cell_type": "markdown",
   "id": "2867eb43",
   "metadata": {},
   "source": [
    "Taipy Scenario example with price multiplier slider."
   ]
  },
  {
   "cell_type": "code",
   "execution_count": null,
   "id": "d16b9089",
   "metadata": {},
   "outputs": [],
   "source": [
    "from taipy import Config, Scope, core as tp\n",
    "import pandas as pd\n",
    "\n",
    "df = pd.read_csv('../data/retail_sales.csv')\n",
    "df['revenue'] = df['quantity'] * df['price']\n",
    "\n",
    "def adjust_prices(dataframe, factor: float):\n",
    "    dataframe['price_adj'] = dataframe['price'] * factor\n",
    "    dataframe['revenue_adj'] = dataframe['price_adj'] * dataframe['quantity']\n",
    "    return dataframe\n",
    "\n",
    "# Configure tasks\n",
    "task_load   = Config.configure_data_node(id='sales', default_data=df)\n",
    "task_factor = Config.configure_data_node(id='factor', default_data=1.0, scope=Scope.SCENARIO)\n",
    "task_adj    = Config.configure_task(id='adjust', function=adjust_prices, input=[task_load, task_factor], output='adj')\n",
    "\n",
    "scenario_cfg = Config.configure_scenario(id='what_if', task_configs=[task_adj],\n",
    "                                         additional_data_nodes=[task_factor])\n",
    "\n",
    "tp.Core().run_scenario(scenario_cfg)"
   ]
  }
 ],
 "metadata": {
  "kernelspec": {
   "display_name": "Python 3",
   "language": "python",
   "name": "python3"
  },
  "language_info": {
   "name": "python"
  }
 },
 "nbformat": 4,
 "nbformat_minor": 5
}
