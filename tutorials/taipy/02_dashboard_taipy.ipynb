{
 "cells": [
  {
   "cell_type": "markdown",
   "id": "9972e6c2",
   "metadata": {},
   "source": [
    "# 02 – Taipy Dashboard"
   ]
  },
  {
   "cell_type": "markdown",
   "id": "255abecc",
   "metadata": {},
   "source": [
    "Minimal Taipy dashboard skeleton."
   ]
  },
  {
   "cell_type": "code",
   "execution_count": null,
   "id": "aa1600eb",
   "metadata": {},
   "outputs": [],
   "source": [
    "from taipy.gui import Gui\n",
    "import pandas as pd\n",
    "\n",
    "df = pd.read_csv('../data/retail_sales.csv', parse_dates=['order_date'])\n",
    "df['revenue'] = df['quantity'] * df['price']\n",
    "\n",
    "# -- state vars --\n",
    "start_date = df.order_date.min().date()\n",
    "end_date   = df.order_date.max().date()\n",
    "selected_category = 'All Categories'\n",
    "\n",
    "# -- GUI (simplified) --\n",
    "import taipy.gui.builder as tgb\n",
    "with tgb.Page() as page:\n",
    "    tgb.text('# Retail Dashboard', mode='md')\n",
    "    tgb.table(data='{df}')\n",
    "\n",
    "Gui(page).run(title='Retail Dashboard', port=8501)"
   ]
  }
 ],
 "metadata": {
  "kernelspec": {
   "display_name": "Python 3",
   "language": "python",
   "name": "python3"
  },
  "language_info": {
   "name": "python"
  }
 },
 "nbformat": 4,
 "nbformat_minor": 5
}
