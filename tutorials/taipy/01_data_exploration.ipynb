{
 "cells": [
  {
   "cell_type": "markdown",
   "id": "e7a21aa5",
   "metadata": {},
   "source": [
    "# 01 – Data Exploration"
   ]
  },
  {
   "cell_type": "markdown",
   "id": "1203655f",
   "metadata": {},
   "source": [
    "Load and preview the retail sales dataset."
   ]
  },
  {
   "cell_type": "code",
   "execution_count": null,
   "id": "e905a9c1",
   "metadata": {},
   "outputs": [],
   "source": [
    "import polars as pl\n",
    "df = pl.read_csv('../data/retail_sales.csv')\n",
    "df.head()"
   ]
  }
 ],
 "metadata": {
  "kernelspec": {
   "display_name": "Python 3",
   "language": "python",
   "name": "python3"
  },
  "language_info": {
   "name": "python"
  }
 },
 "nbformat": 4,
 "nbformat_minor": 5
}
