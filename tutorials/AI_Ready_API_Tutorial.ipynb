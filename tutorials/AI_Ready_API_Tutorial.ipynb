{
 "cells": [
  {
   "cell_type": "markdown",
   "id": "ce4c0a9b",
   "metadata": {},
   "source": [
    "# AI‑Ready API Tutorial\n",
    "This notebook walks through the key code snippets from the guide. Run cells individually to explore each concept."
   ]
  },
  {
   "cell_type": "markdown",
   "id": "20568110",
   "metadata": {},
   "source": [
    "## 1. Initialise Node Project (run in terminal)\n",
    "```bash\n",
    "mkdir ai-ready-api && cd ai-ready-api\n",
    "npm init -y\n",
    "npm install express cors dotenv\n",
    "```"
   ]
  },
  {
   "cell_type": "markdown",
   "id": "eb873d1a",
   "metadata": {},
   "source": [
    "## 2. Minimal Express Server\n",
    "Create **server.js** with:"
   ]
  },
  {
   "cell_type": "code",
   "execution_count": null,
   "id": "da3543e5",
   "metadata": {},
   "outputs": [],
   "source": [
    "import textwrap, sys, json, os, subprocess, pathlib, textwrap\n",
    "code = '''\n",
    "import express from 'express';\n",
    "const app = express();\n",
    "app.use(express.json());\n",
    "app.get('/health', (_req, res) => res.json({ status: 'ok' }));\n",
    "const PORT = process.env.PORT || 3000;\n",
    "app.listen(PORT, () => console.log(`API running on :${PORT}`));\n",
    "'''\n",
    "print(code)\n"
   ]
  },
  {
   "cell_type": "markdown",
   "id": "c879f3fb",
   "metadata": {},
   "source": [
    "## 3. Resilient Client with axios‑retry"
   ]
  },
  {
   "cell_type": "code",
   "execution_count": null,
   "id": "def785fa",
   "metadata": {},
   "outputs": [],
   "source": [
    "import textwrap, sys\n",
    "code = '''\n",
    "import axios from \"axios\";\n",
    "import axiosRetry from \"axios-retry\";\n",
    "\n",
    "axiosRetry(axios, { retries: 3, retryDelay: axiosRetry.exponentialDelay });\n",
    "\n",
    "export async function fetchUser(id) {\n",
    "  try {\n",
    "    const { data } = await axios.get(`http://localhost:3000/users/${id}`);\n",
    "    return data;\n",
    "  } catch (err) {\n",
    "    console.error(err.message);\n",
    "    throw err;\n",
    "  }\n",
    "}\n",
    "'''\n",
    "print(code)\n"
   ]
  },
  {
   "cell_type": "markdown",
   "id": "16df8d3b",
   "metadata": {},
   "source": [
    "## 4. Postman Test Snippet"
   ]
  },
  {
   "cell_type": "code",
   "execution_count": null,
   "id": "42e55888",
   "metadata": {},
   "outputs": [],
   "source": [
    "snippet = '''\n",
    "pm.test(\"Status 200\", () => pm.response.to.have.status(200));\n",
    "pm.test(\"Body is array\", () => {\n",
    "  const body = pm.response.json();\n",
    "  pm.expect(body).to.be.an('array');\n",
    "});\n",
    "'''\n",
    "print(snippet)\n"
   ]
  }
 ],
 "metadata": {},
 "nbformat": 4,
 "nbformat_minor": 5
}
